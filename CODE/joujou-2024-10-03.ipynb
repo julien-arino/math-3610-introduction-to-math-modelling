{
 "cells": [
  {
   "cell_type": "code",
   "execution_count": 86,
   "id": "689506ae",
   "metadata": {},
   "outputs": [],
   "source": [
    "from sympy import *"
   ]
  },
  {
   "cell_type": "code",
   "execution_count": 87,
   "id": "a71205d1",
   "metadata": {},
   "outputs": [],
   "source": [
    "init_printing(use_unicode=True)"
   ]
  },
  {
   "cell_type": "code",
   "execution_count": 88,
   "id": "8f669850",
   "metadata": {},
   "outputs": [],
   "source": [
    "x, r = symbols('x r')"
   ]
  },
  {
   "cell_type": "code",
   "execution_count": 89,
   "id": "c14af457",
   "metadata": {},
   "outputs": [],
   "source": [
    "L = r*x*(1-x)"
   ]
  },
  {
   "cell_type": "code",
   "execution_count": 90,
   "id": "db003e86",
   "metadata": {},
   "outputs": [
    {
     "data": {
      "image/png": "[encoded data removed]",
      "text/latex": [
       "$\\displaystyle \\left[ 0, \\  1\\right]$"
      ],
      "text/plain": [
       "[0, 1]"
      ]
     },
     "execution_count": 90,
     "metadata": {},
     "output_type": "execute_result"
    }
   ],
   "source": [
    "solve(Eq(L,0), x)"
   ]
  },
  {
   "cell_type": "code",
   "execution_count": 97,
   "id": "16156bc3",
   "metadata": {},
   "outputs": [],
   "source": [
    "dL = factor(diff(L, x))"
   ]
  },
  {
   "cell_type": "code",
   "execution_count": 98,
   "id": "43fdec9c",
   "metadata": {},
   "outputs": [
    {
     "data": {
      "image/png": "[encoded data removed]",
      "text/latex": [
       "$\\displaystyle \\left[ \\frac{1}{2}\\right]$"
      ],
      "text/plain": [
       "[1/2]"
      ]
     },
     "execution_count": 98,
     "metadata": {},
     "output_type": "execute_result"
    }
   ],
   "source": [
    "solve(Eq(dL,0), x)"
   ]
  },
  {
   "cell_type": "code",
   "execution_count": 99,
   "id": "c53380f6",
   "metadata": {
    "scrolled": false
   },
   "outputs": [],
   "source": []
  },
  {
   "cell_type": "code",
   "execution_count": 100,
   "id": "7bca0e8d",
   "metadata": {},
   "outputs": [
    {
     "data": {
      "image/png": "[encoded data removed]",
      "text/latex": [
       "$\\displaystyle - r \\left(2 x - 1\\right)$"
      ],
      "text/plain": [
       "-r⋅(2⋅x - 1)"
      ]
     },
     "execution_count": 100,
     "metadata": {},
     "output_type": "execute_result"
    }
   ],
   "source": [
    "dL"
   ]
  },
  {
   "cell_type": "code",
   "execution_count": 101,
   "id": "e4de7a43",
   "metadata": {},
   "outputs": [
    {
     "data": {
      "image/png": "[encoded data removed]",
      "text/latex": [
       "$\\displaystyle r$"
      ],
      "text/plain": [
       "r"
      ]
     },
     "execution_count": 101,
     "metadata": {},
     "output_type": "execute_result"
    }
   ],
   "source": [
    "dL.subs(x, 0)"
   ]
  },
  {
   "cell_type": "code",
   "execution_count": 102,
   "id": "5c950ff6",
   "metadata": {},
   "outputs": [
    {
     "data": {
      "image/png": "[encoded data removed]",
      "text/latex": [
       "$\\displaystyle - r$"
      ],
      "text/plain": [
       "-r"
      ]
     },
     "execution_count": 102,
     "metadata": {},
     "output_type": "execute_result"
    }
   ],
   "source": [
    "dL.subs(x, 1)"
   ]
  },
  {
   "cell_type": "code",
   "execution_count": 103,
   "id": "a6ad0800",
   "metadata": {},
   "outputs": [],
   "source": [
    "L2 = L.subs(x, L)"
   ]
  },
  {
   "cell_type": "code",
   "execution_count": 104,
   "id": "1f32571a",
   "metadata": {},
   "outputs": [
    {
     "data": {
      "image/png": "[encoded data removed]",
      "text/latex": [
       "$\\displaystyle r^{2} x \\left(1 - x\\right) \\left(- r x \\left(1 - x\\right) + 1\\right)$"
      ],
      "text/plain": [
       " 2                             \n",
       "r ⋅x⋅(1 - x)⋅(-r⋅x⋅(1 - x) + 1)"
      ]
     },
     "execution_count": 104,
     "metadata": {},
     "output_type": "execute_result"
    }
   ],
   "source": [
    "L2"
   ]
  }
 ],
 "metadata": {
  "kernelspec": {
   "display_name": "Python 3 (ipykernel)",
   "language": "python",
   "name": "python3"
  },
  "language_info": {
   "codemirror_mode": {
    "name": "ipython",
    "version": 3
   },
   "file_extension": ".py",
   "mimetype": "text/x-python",
   "name": "python",
   "nbconvert_exporter": "python",
   "pygments_lexer": "ipython3",
   "version": "3.11.2"
  }
 },
 "nbformat": 4,
 "nbformat_minor": 5
}
